{
 "cells": [
  {
   "cell_type": "code",
   "execution_count": 1,
   "metadata": {
    "collapsed": true,
    "jupyter": {
     "outputs_hidden": true
    }
   },
   "outputs": [
    {
     "name": "stdout",
     "output_type": "stream",
     "text": [
      "       ID                                              TITLE  \\\n",
      "0  368264  World's Largest-Ever Flying Bird Had Huge Wing...   \n",
      "1  106982  Divergent book Allegiant will be split into tw...   \n",
      "2   77208  BHP Billiton leads UK miners higher, FTSE adva...   \n",
      "3   65656  Gwyneth Paltrow 'ready to date again' after sp...   \n",
      "4  165134  Jem and the Holograms: With The Cast Announced...   \n",
      "\n",
      "                                                 URL         PUBLISHER  \\\n",
      "0  http://www.huffingtonpost.com/2014/07/07/bird-...   Huffington Post   \n",
      "1  http://www.dailymail.co.uk/tvshowbiz/article-2...        Daily Mail   \n",
      "2  http://www.reuters.com/article/2014/04/01/mark...           Reuters   \n",
      "3  http://www.dailymail.co.uk/tvshowbiz/article-2...        Daily Mail   \n",
      "4  http://www.contactmusic.com/in-depth/jem-and-t...  Contactmusic.com   \n",
      "\n",
      "  CATEGORY                          STORY                HOSTNAME  \\\n",
      "0        t  d3qYGhgfPMazuwMOmjhaTdodMiYIM  www.huffingtonpost.com   \n",
      "1        e  dgbsxQzsw6Y5ixMWUWnv2iVmooMZM     www.dailymail.co.uk   \n",
      "2        b  dWe65Stj94RXZzMc-_fNM6oU9cxJM         www.reuters.com   \n",
      "3        e  dYBXx4mEyBDH0dMOAIQn8HkJuTPHM     www.dailymail.co.uk   \n",
      "4        e  doUOAGmezlsPQqMl-gezcb1tVD6AM    www.contactmusic.com   \n",
      "\n",
      "       TIMESTAMP  \n",
      "0  1404827408401  \n",
      "1  1397354640368  \n",
      "2  1396369809664  \n",
      "3  1396133503971  \n",
      "4  1398469544375  \n"
     ]
    }
   ],
   "source": [
    "# -*- coding: utf-8 -*-\n",
    "\n",
    "import csv\n",
    "import pandas as pd\n",
    "import numpy as np\n",
    "\n",
    "\n",
    "\n",
    "path1 = './input/train.txt'\n",
    "path2 = './input/valid.txt'\n",
    "path3 = './input/test.txt'\n",
    "\n",
    "col_name = ['ID','TITLE','URL','PUBLISHER','CATEGORY','STORY','HOSTNAME','TIMESTAMP']\n",
    "\n",
    "train = pd.read_csv( path1, sep='\\t', header=None, names=col_name)\n",
    "valid = pd.read_csv( path2, sep='\\t', header=None, names=col_name)\n",
    "test = pd.read_csv( path3, sep='\\t', header=None, names=col_name)\n",
    "\n",
    "print(train.head())"
   ]
  },
  {
   "cell_type": "code",
   "execution_count": 2,
   "metadata": {},
   "outputs": [
    {
     "name": "stdout",
     "output_type": "stream",
     "text": [
      "  (0, 10328)\t0.23340787416641898\n",
      "  (0, 4723)\t0.34698250851416146\n",
      "  (0, 12609)\t0.38850633849218924\n",
      "  (0, 5697)\t0.3022740625142889\n",
      "  (0, 5264)\t0.2799180998212417\n",
      "  (0, 1519)\t0.35263561768382\n",
      "  (0, 4645)\t0.35916165328123906\n",
      "  (0, 4144)\t0.27780088707019923\n",
      "  (0, 6567)\t0.3203700894652583\n",
      "  (0, 9861)\t0.11517836624204274\n",
      "  (0, 12676)\t0.24090998600967786\n",
      "  (1, 838)\t0.3033177713960938\n",
      "  (1, 6790)\t0.41418467246175505\n",
      "  (1, 7600)\t0.31921223991608555\n",
      "  (1, 11935)\t0.24423616171919327\n",
      "  (1, 6039)\t0.24136717790065096\n",
      "  (1, 10767)\t0.288067484944878\n",
      "  (1, 1340)\t0.2094680985153764\n",
      "  (1, 12587)\t0.21448809746358558\n",
      "  (1, 695)\t0.38422420573069443\n",
      "  (1, 1655)\t0.29859776120817155\n",
      "  (1, 3551)\t0.3270928734811932\n",
      "  (2, 539)\t0.3474927030692294\n",
      "  (2, 4809)\t0.360018439717071\n",
      "  (2, 5515)\t0.26617899033863307\n",
      "  :\t:\n",
      "  (10669, 9861)\t0.11850612511512093\n",
      "  (10670, 3795)\t0.3613640758543936\n",
      "  (10670, 5634)\t0.29261683086137885\n",
      "  (10670, 3783)\t0.328486274180808\n",
      "  (10670, 4730)\t0.3417654432776522\n",
      "  (10670, 2503)\t0.2895266102186595\n",
      "  (10670, 5904)\t0.2942522913103173\n",
      "  (10670, 5471)\t0.2679289549772659\n",
      "  (10670, 1363)\t0.26371335848777294\n",
      "  (10670, 7656)\t0.2570569576071079\n",
      "  (10670, 908)\t0.23171966547144768\n",
      "  (10670, 2018)\t0.23134900617525422\n",
      "  (10670, 767)\t0.24734396874820938\n",
      "  (10670, 9861)\t0.11344659868669126\n",
      "  (10671, 4239)\t0.40704510807955613\n",
      "  (10671, 948)\t0.40704510807955613\n",
      "  (10671, 8066)\t0.36353984140390516\n",
      "  (10671, 11004)\t0.3843871327811486\n",
      "  (10671, 8647)\t0.3583155045885375\n",
      "  (10671, 9901)\t0.22983838250535693\n",
      "  (10671, 3914)\t0.3536421760589254\n",
      "  (10671, 12093)\t0.14604566828469442\n",
      "  (10671, 90)\t0.16931126399727706\n",
      "  (10671, 1005)\t0.14555464190562914\n",
      "  (10671, 11641)\t0.10608302942060226\n"
     ]
    }
   ],
   "source": [
    "import MeCab\n",
    "from sklearn.feature_extraction.text import TfidfVectorizer\n",
    "from sklearn.feature_extraction.text import TfidfTransformer\n",
    "from sklearn.feature_extraction.text import CountVectorizer\n",
    "\n",
    "count = CountVectorizer()\n",
    "\n",
    "X_count = count.fit_transform(train[\"TITLE\"].values)\n",
    "tfidf_transformer = TfidfTransformer()\n",
    "X_tfidf = tfidf_transformer.fit_transform(X_count)\n",
    "\n",
    "#特徴量の抽出\n",
    "#word = X_tfidf.transform(df[\"TITLE\"])\n",
    "\n",
    "vectorizer = TfidfVectorizer(use_idf=True, token_pattern=u'(?u)\\\\b\\\\w+\\\\b')\n",
    "vecs = vectorizer.fit_transform(train[\"TITLE\"])\n",
    "\n",
    "print(vecs)\n",
    "\n",
    "#特徴量ベクトルに変換（出現頻度）\n",
    "#vector = word.toarray()\n",
    "\n",
    "#tagger = MeCab.Tagger('-O wakati')\n",
    "#temp = [\"\"]\n",
    "#len(temp)\n",
    "\n",
    "#for n in range(len(df)):\n",
    "#    df[\"TITLE\"][n] = re.sub('\\d+ | [.()]', '', df[\"TITLE\"][n])\n",
    "#    df[\"TITLE\"][n] = df[\"TITLE\"][n].replace('...', ' ').replace('/', ' ').replace('\\'', ' ').replace('?', ' ').replace('.', ' ').replace(';', '').replace(':', ' ').replace(',', ' ')\n",
    "#    df[\"TITLE\"][n] = df[\"TITLE\"][n].lower()\n",
    "#    temp.append(df[\"TITLE\"][n])\n"
   ]
  },
  {
   "cell_type": "code",
   "execution_count": 3,
   "metadata": {},
   "outputs": [],
   "source": [
    "import re\n",
    "import spacy\n",
    "import nltk"
   ]
  },
  {
   "cell_type": "code",
   "execution_count": 17,
   "metadata": {},
   "outputs": [
    {
     "name": "stdout",
     "output_type": "stream",
     "text": [
      "[['world', 'have', 'largest', '-', 'ever', 'fli', 'bird', 'had', 'huge', 'wingspan', ',', 'fossil', 'show'], ['diverg', 'book', 'allegi', 'will', 'be', 'split', 'into', 'two', 'movi', ',', 'lionsgat', 'announc'], ['bhp', 'billiton', 'lead', 'uk', 'miner', 'high', ',', 'ftse', 'advanc'], ['gwyneth', 'paltrow', \"'\", 'readi', 'to', 'date', 'again', \"'\", 'after', 'split', 'from', 'chris', 'martin'], ['jem', 'and', 'the', 'hologram', ':', 'with', 'the', 'cast', 'announc', 'what', 'do', 'we', 'think', 'so', 'far', '?']]\n",
      "[['wrapup', '1-us', 'economi', 'contract', 'sharpli', ',', 'consum', 'spend', 'revis', 'down'], ['unit', 'technolog', \"'\", 'sikorski', 'win', '$', '1.3', 'billion', 'us', 'helicopt', 'deal'], ['selena', 'gomez', '-', 'selena', 'gomez', 'fire', 'parent', 'a', 'manag'], ['the', 'meteor', 'shower', 'set', 'to', 'light', 'up', 'the', 'sky', 'abov', 'america', 'tonight', '...'], ['british', 'american', 'tobacco', 'result', 'hurt', 'by', 'forex']]\n",
      "[['chiquita', 'combin', 'with', 'fyff', 'to', 'be', 'top', 'banana'], ['lindsay', 'lohan', '-', 'dina', 'lohan', 'have', 'licenc', 'revok'], ['young', 'peopl', 'who', 'take', 'high', 'dose', 'of', 'antidepress', 'be', 'twice', 'a', 'like', 'to', '...'], ['coal', 'dust', 'exposur', 'to', 'be', 'cut', '25', '%', 'in', 'us', 'rule', 'fought', 'by', 'industri'], ['new', 'york', '(', 'ap', ')', '—', 'stock', 'be', 'close', 'high', 'on', 'wall', 'street', 'a', 'the', 'market', '...']]\n"
     ]
    }
   ],
   "source": [
    "nlp = spacy.load('en')\n",
    "stemmer = nltk.stem.snowball.SnowballStemmer(language='english')\n",
    "\n",
    "def tokenize(x):\n",
    "    x = re.sub(r'\\s+', ' ', x)\n",
    "    x = nlp.make_doc(x) # nlp(x)は遅い tokenizer以外も走るので\n",
    "    x = [stemmer.stem(doc.lemma_.lower()) for doc in x]\n",
    "    return x\n",
    "\n",
    "tokenized_train  = []\n",
    "tokenized_valid  = []\n",
    "tokenized_test  = []\n",
    "for n in range(len(train)):\n",
    "    tokenized_train.append(tokenize(train[\"TITLE\"][n]))\n",
    "\n",
    "for n in range(len(valid)):\n",
    "    tokenized_valid.append(tokenize(valid[\"TITLE\"][n]))\n",
    "\n",
    "for n in range(len(test)):\n",
    "    tokenized_test.append(tokenize(test[\"TITLE\"][n]))\n",
    "\n",
    "print(tokenized_train[:5])\n",
    "print(tokenized_valid[:5])\n",
    "print(tokenized_test[:5])"
   ]
  },
  {
   "cell_type": "code",
   "execution_count": 30,
   "metadata": {
    "collapsed": true,
    "jupyter": {
     "outputs_hidden": true
    }
   },
   "outputs": [
    {
     "name": "stdout",
     "output_type": "stream",
     "text": [
      "['rise', ';', 'it', 'her', 'will', 'high', 'share', 'china', 'over', 'kim', 'euro', 'fall', 'show', '1', 'low', 'bank', '-pron-', '2', 'rate', 'year', 'star', 'may', 'deal', 'market', 'dollar', 'day', 'sale', '!', 'that', 'can', 'about', 'fed', 'get', 'out', 'buy', 'ecb', 'make', 'time', 'drop', 'report', 'profit', 'take', 'off', 'forex', 'miley', 'you', 'cyrus', 'wall', 'global', 'see', 'set', 'near', 'gain', 'billion', 'west', 'reveal', 'datum', 'she', 'but', 'his', 'first', 'record', 'bond', 'week', 'wed', 'million', 'hit', 'price', 'ceo', 'top', 'chris', 'cut', 'open', 'video', 'growth', 'kany', 'plan', 'much', 'down', 'more', 'month', 'do', 'than', 'game', 'ukrain', 'talk', 'no', 'end', 'bln', 'this', 'st', 'home', 'justin', 'googl', 'pay', 'as', 'all', 'bieber', 'who', 'oil', 'one', '2014', 'how', 'inflat', 'film', 'are', 'rais', 'into', 'your', '.', 'call', 'movi', 'back', 'befor', 'job', 'futur', 'he', 'two', 'want', 'appl', 'what', 'big', 'american', 'face', 'world', 'york', '3', 'economi', 'die', 'drug', 'pct', 'offer', 'look', 'man', 'go', 'trade', 'against', 'car', 'gold', 'sell', 'just', 'chang', 'war', '&', 'find', 'correct', 'bid', 'twitter', 'rpt', 'award', 'love', 'uk', 'yellen', 'estim', 'court', 'death', 'expect', 'fan', 'recal', 'miss', 'most', 'ahead', '\\ufeff1', '4', 'risk', 'outlook', 'lohan', 'leav', 'forecast', 'live', 'whi', 'lindsay', 'ipo', 'loss', 'help', 'studi', 'quarter', 'beat', 'case', 'jump', 'claim', 'america', 'sinc', 'tv', 'dead', 'probe', 'beyonc', 'michael', 's&p', 'i', 'hold', 'gm', 'facebook', 'post', 'win', 'busi', 'offic', 'throne', 'firm', 'review', 'meet', 'still', 'lead', 'peopl', 'amid', 'music', 'jay', 'boost', 'rule', 'photo', 'test', 'selena', 'give', 'like', 'warn', 'yield', 'hous', '>', 'close', 'box', 'fight', 'gomez', 'draghi', 'wrapup', 'releas', 'fitch', 'georg', 'dress', 'seek', 'join', 'health', 'iraq', 'now', 'has', 'men', 'step', 'jame', 'final', 'amazon', 'yen', 'mother', 'celebr', 'mobil', 'babi', 'paul', 'z', 'return', 'season', 'cost', 'work', 'name', 'revenu', 'cancer', 'watch', 'charg', 'use', 'jennif', 'ralli', 'russia', 'good', 'demand', 'maker', 'ebola', 'harri', 'european', 'arrest', 'said', 'polici', 'gas', 'we', 'earn', 'littl', 'break', 'target', 'europ', 'debt', 'sex', 'stone', 'was', 'again', 'life', 'parti', 'age', 'girl', 'investor', 'fire', 'declin', 'three', 'bet', 'bnp', 'could', 'alibaba', 'street', 'fund', 'head', '5', 'robert', 'merger', 'edg', 'offici', 'june', 'credit', 'treasuri', 'tax', 'second', 'air', 'push', 'their', 'approv', 'scott', '500', 'tour', 'eye', 'climat', '10', 'late', 'william', 'brown', 'critic', '%', 'japan', 'order', 'so', 'data', 'refil', 'concern', 'cover', 'compani', 'play', 'jackson', 'percent', 'start', 'zone', 'cancel', 'some', 'well', 'internet', 'affirm', 'heart', 'keep', 'come', 'news', 'way', 'met', 'ford', 'pictur', 'black', 'mln', 'debut', 'need', 'ban', 'microsoft', 'they', 'six', 'confirm', 'view', 'date', 'dure', 'kong', 'increas', 'lawsuit', 'child', 'move', 'launch', 'servic', 'north', 'know', 'obama', 'martin', 'cast', 'real', 'food', 'list', 'samsung', 'should', 'white', 'drive', 'ex', 'red', 'episod', 'announc', 'five', 'robin', 'weak', 'roll', 'precious', 'hong', 'jessica', 'steadi', 'eas', 'comment', 'trailer', '/', 'my', 'slip', 'april', 'pfizer', 'product', 'german', 'marri', 'role', 'premier', '7', 'sign', 'state', 'flat', 'gwyneth', 'next', 'tell', 'famili', 'jagger', 'unit', 'climb', 'pregnant', 'strong', 'advanc', 'surg', 'or', 'lose', 'under', 'file', 'host', 'sourc', 'half', 'march', \"l'wren\", 'joli', 'spend', 'best', 'virus', 'perform', 'obamacar', 'netflix', 'too', 'festiv', 'crash', 'free', 'turn', 'mick', '—', 'book', 'angelina', 'propos', 'dip', 'while', 'support', 'follow', 'young', 'fail', 'slow', 'action', 'old', 'danc', 'ryan', 'kid', 'david', 'thing', 'bad', 'invest', 'paltrow', '2-us', '1-us', 'last', 'brad', 'boe', 'emma', 'snapshot', 'split', 'consum', 'asia', 'here', 'taylor', 'canada', 'put', 'suppli', 'judg', 'emerg', 'attack', 'son', 'challeng', 'birthday', 'astrazeneca', 'app', 'slump', 'ever', 'think', 'investig', 'econom', 'power', 'direct', 'wife', 'reach', 'even', 'lift', 'secur', 'if', 'french', 'comcast', 'thick', 'swift', 'when', 'fear', 'bill', 'bring', 'jenner', 'settl', 'energi', 'hospit', 'e', 'johnni', 'anoth', 'phone', 'own', 'zac', 'efron', 'citi', 'retail', 'grow', 'actor', 'director', 'run', 'despit', 'pitt', 'result', 'long', 'seen', 'stop', 'weigh', '2015', 'un', 'space', 'right', 'india', 'hope', 'pound', 'extend', 'tesla', '100', 'clooney', 'simpson', 'boj', 'scientist', 'four', 'chief', 'short', 'crude', 'kill', 'fox', 'link', 'argentina', 'stake', 'crisi', 'mortgag', 'tech', 'jet', 'ap', 'plane', 'worker', 'friend', 'stay', 'airlin', 'act', 'earli', '-sourc', 'spider', 'wear', 'loan', 'tension', 'chines', 'other', 'tribut', 'regul', '6', 'behind', 'walker', 'pharrel', '*', 'tri', 'tweet', 'album', 'singer', 'minut', 'mtv', 'battl', '--', 'money', 'shoot', 'alleg', 'author', 'spread', 'forc', 'nick', 'stimulus', 'net', 'cigarett', 'add', 'bell', 'doubl', 'land', 'john', 'daughter', 'franc', 'public', 'slide', 'an', 'guilti', 'light', 'user', 'morgan', 'father', 'capit', 'deni', 'key', 't', 'warner', 'ignit', 'sanction', 'possibl', 'focus', 'grain', 'alstom', 'issu', 'mcdonald', 'agre', 'kate', 'mad', 'voic', '50', 'fine', 'remain', 'strike', 'eu', 'mer', 'depp', 'boy', 'law', 'franco', 'khloe', 'would', 'realli', 'ladi', 'allergan', 'secret', 'juli', 'captain', 'save', '™', 'pull', 'fda', 'urg', 'sister', 'becom', 'blood', 'manufactur', 'plant', 'former', 'seth', 'group', 'trial', 'level', 'fast', 'begin', 'cash', 'hike', 'mar', 'ask', 'general', 'export', 'insid', 'shia', 'labeouf', 'stabl', 'industri', 'full', 'barclay', 'auto', 'sue', 'manag', 'harrison', 'south', 'corn', 'far', 'winter', 'ad', 'at&t', 'song', 'asset', 'line', 'replac', '[', 'instagram', 'selfi', 'stream', 'flight', 'veri', 'stori', 'australia', '20', 'walk', 'transform', 'delay', 'kristen', 'gay', 'index', 'suit', 'cann', 'unveil', 'prepar', 'below', 'govern', 'our', 'search', 'asian', 'reject', 'water', 'financi', 'settlement', 'woman', 'hollywood', 'sequel', 'continu', '9', 'away', 'andrew', 'night', 'lena', 'dunham', 'term', 'kati', 'hbo', 'build', 'nasdaq', 'noah', 'smith', 'develop', 'anti', 'la', 'part', 'valeant', 'signal', 'currenc', 'mean', 'engag', 'ring', 'fix', 'produc', 'onli', 'christina', ']', 'custom', 'did', 'slam', 'recoveri', 'model', 'mccarthi', 'dark', 'accus', 'lana', 'yahoo', 'fuel', 'london', 'board', 'earth', 'yet', 'outbreak', 'vii', 'reason', 'defend', 'valu', 'readi', 'mom', 'dow', 'takeov', 'michel', 'concert', 'amaz', 'through', 'neil', 'mila', 'kuni', 'fcc', 'broadway', 'almost', 'controversi', 'rival', 'execut', 'rolf', 'shire', 'him', 'ipad', 'del', 'rey', 'glass', 'u.s.', 'women', 'stanley', 'patent', 'pariba', 'husband', 'presid', 'rogen', 'factori', 'spark', 'design', 'bachelorett', 'biggest', 'recap', 'assault', 'pari', 'lea', 'research', '8', 'doctor', 'brent', 'bankruptci', 'teen', 'king', 'doe', 'arriv', 'speed', 'interest', 'abus', 'garfield', 'ice', 'weekend', 'tumbl', 'co', 'yuan', 'apparel', 'adam', 'happi', 'switch', 'card', 'blast', 'safeti', 'imf', 'soon', 'seri', 'lopez', 'ge', 'hour', 'surpris', 'planet', 'nasa', 'await', 'without', 'let', 'richard', 'cool', 'soar', 'gala', 'steal', 'track', 'minist', 'wrong', 'ny', 'reduc', 'neutral', 'infect', 'cabl', 'due', 'panel', 'hunt', 'chrysler', 'network', 'between', 'princ', 'gown', 'mark', 'gaga', 'oscar', 'negat', 'check', 'disappoint', 'row', 'marriag', 'problem', 'admit', 'plead', 'higher', 'treatment', 'birth', 'worri', 'de', 'morn', 'reunit', 'leak', 'tie', 'small', 'sir', 'lewi', 'legal', 'team', 'sexual', 'iphon', 'protest', 'shock', 'bachelor', 'great', 'there', 'spell', 'california', 'demi', 'lovato', 'struggl', 'biopic', 'wheat', 'fli', 'huge', 'point', 'apolog', 'disput', 'quit', 'store', '#', 'expand', 'drink', 'russel', 'moment', 'vogu', 'suiss', 'control', 'kiss', 'hall', 'brand', 'corpor', 'ben', 'trader', 'africa', 'crush', 'marvel', 'protect', 'sea', 'prove', 'around', 'factor', 'true', 'pressur', 'perri', 'aid', 'sterl', 'galaxi', 'caus', 'warm', 'directv', 'detroit', 'vs', 'rumour', 'smartphon', 'travel', 'carpet', 'stage', 'specul', 'jenni', 'solang', 'central', 'jimmi', 'catch', 'block', '14', 'coachella', 'creat', 'text', 'washington', 'disney', 'nikkei', 'hint', 'gosl', 'polic', 'tori', 'chairman', 'breach', 'limit', 'improv', 'rihanna', 'pregnanc', 'rob', 'sick', 'onc', 'rebound', 'nation', 'idol', 'posit', 'kourtney', 'inspir', 'send', 'never', 'question', 'revis', 'rico', 'm&a', 'style', 'experi', 'hurt', 'better', 'hand', 'agenc', 'hard', 'girlfriend', 'johnson', 'becaus', 'retir', 'web', 'press', 'abov', '12', 'russian', 'mix', 'giant', 'competit', 'patient', 'default', 'mccartney', 'camera', 'appear', 'threat', 'togeth', 'senat', 'moon', 'payment', 'effect', 'stress', 'rare', 'joe', 'prevent', 'gdp', 'member', 'past', 'summer', 'school', 'place', 'hill', 'cent', 'had', 'hack', 'hear', 'privat', 'optim', 'italian', 'labor', 'lupita', \"nyong'o\", 'fx', 'thank', 'vehicl', 'carey', 'explain', 'dream', 'kick', 'goe', 'plung', 'project', '13', 'brain', 'kendal', 'libya', 'acceler', 'montana', 'citigroup', 'rapper', 'flash', 'union', 'crimin', 'same', 'safe', 'screen', 'river', 'patrick', 'q1', 'scene', 'mysteri', 'bofa', 'onlin', 'port', 'mani', 'blue', 'goldman', 'downey', 'discov', 'system', 'accord', 'michell', 'versus', 'carney', 'chain', 'where', 'separ', 'creator', 'weight', 'sexi', 'drew', 'which', 'bodi', 'hepat', 'hair', 'receiv', 'spot', 'got', 'read', 'realiti', 'sector', 'congress', 'wsj', 'deutsch', 'tight', 'origin', 'welcom', 'fiat', 'word', 'hilari', 'smart', 'happen', 'electr', 'jon', '22', '3-us', 'british', 'abbvi', 'spill', 'blame', 'neighbor', 'per', '18', 'these', 'sharehold', 'shailen', 'woodley', 'perfect', 'threaten', 'must', 'hemsworth', 'stun', 'dog', 'unemploy', 'toyota', 'stewart', 'brother', 'confid', 'aereo', 'frozen', 'parent', 'funer', 'olivia', 'train', 'polit', 'figur', 'alcohol', 'barrymor', 'ann', 'children', 'reunion', 'contract', 'lower', 'me', 'equiti', 'beauti', 'noth', 'prime', 'vow', 'mariah', 'allow', 'uber', 'suprem', 'latest', 'damag', 'tattoo', 'miranda', 'decis', 'nyc', 'cannon', 'kris', 'trap', 'ride', 'wild', 'rock', 'total', 'victim', 'cap', 'divorc', 'bitcoin', 'includ', 'potenti', 'actress', 'boyfriend', 'pick', 'gun', 'wage', 'oprah', 'gap', 'anim', 'activist', 'outsid', 'room', 'scarlett', 'slight', 'fee', 'tonight', 'defect', 'crop', 'sink', 'aim', 'los', 'angel', 'pose', 'motor', 'billboard', 'messag', 'condit', 'malaysia', '11', 'clear', 'x', 'auction', 'don', 'pmi', 'magic', 'easter', 'bear', 'andi', 'allen', '2013', 'enough', 'wait', 'chelsea', '30', 'drag', 'cameron', 'major', 'freddi', 'medic', 'puerto', 'subdu', 'been', 'side', 'jail', 'burger', 'financ', 'marijuana', 'acquir', 'fashion', 'bryan', 'consid', 'peach', 'ellen', 'friday', 'respons', 'affleck', 'curb', 'retreat', 'among', 'cobain', 'note', 'employe', 'toward', 'cloud', 'suspend', 'spear', 'deadlin', 'learn', 'drone', 'made', '2-china', 'johansson', 'believ', 'imag', 'jr.', 'worth', 'vietnam', 'jpmorgan', 'jason', '1/2', 'scandal', 'found', 'output', 'keith', 'fargo', 'consol', 'heartble', 'museum', 'joke', 'magazin', 'mexico', 'hotel', 'bag', 'lot', 'grand', 'everyth', 'carri', 'winner', 'deflat', 'swiss', 'rick', 'steve', 'technolog', 'jack', 'soldier', 'epa', 'honour', '25', 'snap', 'lawmak', 'exit', 'topless', 'worst', 'import', 'aguilera', 'megan', 'promis', 'chart', 'station', 'qe', 'diseas', 'murder', 'toni', 'eight', 'melissa', 's', 'avoid', 'special', 'bar', 'beyoncé', 'third', 'malaysian', 'cdc', 'sun', 'indian', 'speech', 'shut', 'weather', 'class', 'hacker', '£', 'bikini', 'histori', 'chase', 'were', 'boss', 'event', 'alzheim', 'republican', 'batman', 'suicid', 'cite', 'stand', 'peter', 'diabet', 'potter', 'cell', 'strengthen', 'attend', 'siemen', 'prompt', 'comedi', 'visit', 'loom', 'guardian', 'halt', 'dean', 'everi', 'speak', 'soybean', 'ibm', 'miner', 'josh', 'fame', 'human', 'detect', 'discuss', 'relationship', 'icon', 'jobless', 'differ', 'nake', 'twin', 'gilead', 'transcend', 'purchas', 'anna', 'ship', 'larg', 'treat', 'geldof', 'write', 'lawrenc', 'measur', 'niro', 'pilot', 'garth', 'driver', 'toll', 'renew', 'korea', 'dee', 'valuat', 'ebay', 'britney', 'morrissey', 'privaci', 'reaction', 'rocket', 'complet', 'playstat', 'round', 'eat', 'account', 'spur', 'fraud', 'lost', 'relat', 'african', 'recov', 'sorri', 'defens', 'passeng', 'daili', 'straight', 'gig', 'reviv', 'lowest', 'tablet', 'hedg', 'stephen', 'dinosaur', 're', 'tom', 'session', 'pattinson', 'less', 'orbit', 'sprint', 'featur', 'satellit', 'troubl', 'smoke', 'actual', 'rumor', 'survey', 'super', 'khloé', 'duke', 'area', 'texa', 'skin', 'ftc', 'daniel', 'diverg', 'middl', 'rememb', 'carbon', 'fair', 'shop', 'testimoni', 'number', '1-china', 'diaz', 'draw', 'wireless', 'gibson', 'insur', 'britain', 'interview', 'malefic', 'crow', 'danger', 'tanker', 'spanish', 'spring', 'jami', 'road', 'devic', 'tammi', 'fresh', '17', 'aussi', 'surfac', 'person', 'pollut', 'turnaround', 'hire', 'exist', 'shift', 'putin', 'loui', 'su', 'madonna', 'sing', 'memori', 'attempt', 'whole', 'python', 'oper', 'nicki', 'minaj', 'predict', 'watson', 'nbc', 'suggest', 'race', 'cheat', 'pledg', 'main', 'east', 'shine', 'solar', 'until', 'fat', 'teenag', '15', 'expert', 'musk', 'equal', 'match', 'collaps', 'studio', 'partner', 'bob', 'violenc', 'shrink', 'brook', 'social', 'weaken', 'incred', 'contest', 'joan', 'tone', 'q2', 'ackman', 'rich', 'everyon', 'obes', 'highest', 'appeal', 'arquett', 'sever', 'suffer', 'dad', 'winslet', 'guinea', 'snapchat', 'ami', 'medium', 'properti', 'evan', '16', 'floyd', 'display', 'ftse', 'broad', 'canadian', 'wish', 'alien', 'feder', 'queen', 'care', 'sleep', 'lifetim', 'impact', 'nfl', 'tribeca', 'traci', 'debat', 'storag', 'progress', 'lambert', 'blow', 'feel', 'door', 'mh370', 'enter', 'dicaprio', 'conscious', 'rehab', 'swap', 'pal', 'blog', 'strip', 'club', 'led', 'today', 'blackberri', 'australian', 'remov', 'superman', 'lili', 'gari', 'comic', 'flaw', 'explor', 'julia', 'frack', 'form', 'trip', 'massiv', 'fit', 'shower', 'leg', 'ticket', 'hate', 'surgeri', 'levin', 'inch', 'intern', 'forget', 'cooper', 'femal', 'lend', 'cfo', 'thursday', 'streak', 'mayor', 'lion', 'advis', 'orang', 'pill', 'snl', 'seat', 'bite', 'breast', 'eva', 'dovish', 'rebel', 'refus', 'copyright', 'green', 'nissan', '27', 'pablo', 'them', 'android', 'nomin', 'trigger', 'longer', 'jada', 'knowl', 'restaur', 'turkey', 'franki', 'revers', 'monster', 'nude', 'middleton', 'argentin', 'spin', 'kyli', 'tatum', 'mart', 'vote', 'campaign', 'healthcar', 'pace', 'island', 'cori', 'success', 'extinct', 'unexpect', 'healthi', 'medicar', '19', 'sofia', 'websit', 'handler', 'columbus', 'economist', 'woe', 'channel', 'dividend', 'object', 'comput', 'recent', 'wayn', 'might', 'pretti', 'subscrib', 'machin', 'leader', 'seiz', 'libyan', 'soft', 'highlight', 'introduc', 'natur', 'countri', 'expans', 'leonardo', 'soni', 'uncoupl', 'glee', 'piketti', 'worsen', 'veronica', 'bizarr', 'yr', 'robot', 'resolv', 'dave', 'stem', 'gazprom', 'ukrainian', 'kurt', 'postpon', '2nd', 'bang', 'pharma', 'christian', 'organ', 'tsx', 'abort', 'haven', 'rubi', 'terri', 'choic', 'paula', '3-week', 'invit', 'monti', 'famous', '4th', 'televis', 'lord', 'wake', 'abc', 'godzilla', 'vaccin', 'student', 'comeback', 'address', 'jone', 'contain', 'sec', 'februari', 'tape', 'tear', 'drama', 'rowl', 'rape', 'rooney', 'bp', 'lag', 'taco', 'monday', 'bright', '1-ecb', 'region', '3.2', 'charney', 'jr', 'knock', 'colbert', 'governor', 'saturday', 'owner', 'ac', 'dc', 'ultra', 'b', 'bucket', 'lip', 'digit', 'band', 'tyson', 'buffett', 'japanes', 'bigger', 'pinkett', 'plea', 'exclus', 'beef', 'justic', 'upbeat', 'himself', 'sentiment', 'theft', 'juan', 'cold', 'candi', 'pippa', 'impress', 'thousand', 'germani', 'davi', 'univers', 'mine', '24', 'monteith', 'size', 'princess', 'touch', 'pop', 'marc', 'rosi', \"o'donnel\", 'ross', 'bangerz', 'matthew', 'c', 'warrant', 'emmi', 'silenc', 'nine', 'philip', 'attorney', 'herbalif', '1st', 'access', 'bunch', 'mull', 'kevin', 'florida', 'teaser', '250', 'prais', 'jace', 'gwen', 'coach', 'commod', 'shot', 'mini', 'honduran', 'batteri', 'react', 'tool', 'accid', 'degener', 'lesson', 'rose', 'outfit', 'fallon', 'clip', 'via', 'urban', 'scrutini', 'miami', 'deposit', 'juri', 'detail', 'trim', 'adopt', 'overhaul', 'liam', 'heard', 'casey', 'kasem', 'across', 'grey', 'elsa', 'resign', 'incid', 'hugh', 'jackman', 'jd.com', 'england', 'decad', 'xbox', 'grab', 'self', '3-month', 'staci', 'mental', 'novarti', 'joint', 'abramson', 'declar', 'alert', 'benefit', 'kimy', 'riot', 'ground', 'dragon', 'ashton', 'cultur', 'starbuck', 'cup', 'sxsw', 'chemic', 'avicii', 'gq', 'accept', 'matt', 'tobacco', 'platinum', 'promot', 'bossi', 'fill', 'plus', 'romanc', 'option', 'awesom', 'seven', 'fake', 'letterman', 'duff', 'avril', 'lavign', 'mail', 'v', 'eminem', 'orlando', 'hank', 'eric', 'adjust', 'career', 'chariti', 'chocol', 'allergi', 'pot', 'icahn', 'failur', 'pin', 'fiancé', 'label', 'lawyer', 'intel', 'bomb', 'traffic', 'palermo', 'advic', 'pitch', 'storm', 'column', 'biotech', 'porn', 'wal', 'sarah', 'arabia', 'electron', 'metal', 'peac', 'pain', 'zendaya', 'hot', 'pet', 'flag', 'woodi', 'fbi', 'singl', 'ant', 'field', 'serv', 'sport', 'elizabeth', 'activ', 'count', 'mari', 'iggi', 'azalea', 'evil', 'schwarzenegg', 'hero', 'fanni', 'dorfman', 'negoti', 'independ', 'wti', 'michigan', 'chef', 'ell', 'reform', 'front', 'site', 'viewer', 'incom', 'delet', 'wintour', 'restor', 'involv', 'itali', 'rip', 'page', 'current', 'stall', 'colin', 'thoma', 'normal', 'goal', 'nymex', 'connect', 'blond', 'pool', 'hiv', 'rebind', 'sunday', 'macklemor', 'restructur', 'sac', 'trend', 'craig', 'brief', 'wash', 'pursu', 'patton', 'snow', 'rest', 'whale', 'timelin', 'cbs', 'vmas', 'barra', 'pipelin', 'acquisit', 'trust', 'contact', 'walmart', 'throw', 'lunch', 'homeless', 'flow', 'coupl', 'herself', 'ocean', 'expos', 'upgrad', 'hayden', 'richardson', 'bug', 'furious', 'emot', 'strategi', 'fish', 'hamm', 'spain', 'ohio', 'hundr', 'injur', 'insist', 'ireland', 'jean', 'mend', 'verizon', 'pois', 'racist', 'charli', 'murdoch', 'kerri', 'iliad', 'engin', 'dismiss', 'soy', 'lab', 'gopro', 'kutcher', 'dedic', 'stick', 'greek', 'ill', 'holiday', 'amanda', 'resum', 'airport', 'pratt', '90', 'publish', '300', 'volum', 'gox', 'allerg', 'art', 'restrain', 'tim', 'dui', 'spacex', 'non', 'kelli', 'irish', 'fisher', 'adult', 'walter', 'jonah', '1000', 'childhood', 'few', 'mansion', 'san', 'rescu', 'tran', 'makeup', 'mission', 'beach', 'elect', 'scare', 'pass', 'chan', 'murray', 'erst', 'letter', 'feud', 'enjoy', 'dian', 'telecom', 'fun', 'terribl', 'radcliff', 'oldman', 'vs.', 'youtub', 'dalla', '|', 'dancer', 'pink', 'navi', 'courtney', 'fossil', 'hologram', 'holland', 'whether', '35', 'convict', 'flame', 'advantag', 'baker', 'gear', 'legend', 'mice', 'opportun', 'player', 'mel', 'bare', 'carrier', 'lyric', 'aniston', '-wsj', '4-us', 'solv', 'anniversari', 'reboot', 'pine', 'cross', 'fatal', 'lung', 'stefani', 'email', 'twitch', 'multi', 'merril', 'affect', 'guid', 'htc', 'illeg', 'shade', 'leather', 'paper', 'selloff', 'debbi', 'zeppelin', 'alba', 'bulgaria', 'edward', 'skip', 'tabl', 'wig', 'frequenc', 'church', 'rep', 'mock', 'dive', 'favreau', 'probabl', 'solid', 'charact', 'chanc', 'soprano', 'winfrey', 'flood', 'cheap', 'foreign', 'founder', 'valley', 'trail', 'pope', 'franci', 'print', 'broadcast', 'drake', 'billionair', 'muppet', 'appar', 'lafarg', 'digest', 'depart', 'cleavag', 'sound', 'aronofski', '60', 'forward', 'anderson', 'revamp', 'oust', '2-gm', 'obsess', 'candid', 'beyond', 'master', 'deliveri', 'rita', 'ora', 'tout', 'tap', 'usa', 'arnold', 'dazzl', 'keibler', 'schedul', 'ingredi', 'elon', 'tyler', 'guidanc', 'process', 'willow', 'bed', 'outrag', 'compar', 'bull', 'teva', '1.3', 'uninsur', 'legendari', 'fourth', 'rig', 'provid', 'costum', 'explod', 'artist', 'veteran', 'manipul', 'stockpil', 'analyst', 'anthoni', 'unrest', 'center', 'vergara', 'longtim', '200', 'medtron', 'prize', 'wwe', 'era', 'prospect', 'septemb', 'ceremoni', 'januari', 'longest', 'ditch', 'mount', 'luca', 'photograph', 'dawn', 'arizona', 'kerr', 'mike', 'katherin', 'jupit', 'op', '45', 'bloom', 'heat', 'fals', 'alli', 'ago', 'clean', 'virgin', 'debri', 'confer', 'lockhe', 'amal', 'alamuddin', 'karruech', 'dare', 'foot', 'sherri', 'shepherd', '2012', 'guy', 'simon', 'robberi', 'rachel', 'upon', 'steel', 'someth', 'mickey', 'sedan', 'beard', 'raci', 'morri', 'jeopardi', 'craft', 'weird', 'korean', 'ifo', 'cours', 'sandra', 'bullock', 'employ', '3d', 'apologis', 'fade', 'ultim', 'warrior', '5-us', 'usda', 'aaliyah', 'hug', 'volatil', 'buyer', 'bradi', 'sierra', 'leon', 'lover', 'ariana', 'budget', 'surviv', 'cloth', 'monetari', 'bird', 'airway', 'hachett', 'evid', 'collect', 'advertis', '17000', 'bus', 'done', 'watchdog', 'scienc', 'twice', 'approach', 'gym', 'grant', 'along', 'genet', 'em', 'clarifi', 'worldwid', 'disrupt', 'tick', 'qtr', 'kiwi', 'octob', 'spotifi', '40', 'creditor', 'midnight', '1.7', 'mess', 'bruce', 'cargo', 'apart', 'fever', 'polio', 'dramat', 'tini', 'bullard', 'mum', 'premium', 'dr.', 'jane', 'heaven', 'trace', 'rba', 'payout', 'banker', 'merg', 'theme', 'august', 'mid', 'momentum', 'rush', 'escap', 'softwar', 'theori', 'transit', 'honda', 'ferguson', 'minimum', 'fate', 'kind', 'alway', 'extra', 'faulti', 'qatar', 'chic', 'amber', 'easi', 'program', 'sneak', 'hp', '2000', 'pleas', 'deliv', 'common', 'cbo', 'bride', 'mae', 'oecd', 'reuter', 'scientif', 'partnership', 'darren', 'newli', 'susan', 'rap', 'exposur', 'oz', '3-gm', 'shake', 'deep', 'kuroda', 'lgbt', 'inform', 'heavi', 'rodriguez', 'panettier', '93', 'topix', 'overdos', 'slack', 'tough', 'blake', 'reopen', 'lie', '2009', 'chip', 'alex', 'holder', '5.7', 'ab', 'stroke', 'democrat', 'hewitt', 'holcim', 'farewel', 'tuesday', 'nirvana', 'gene', 'entir', 'f-35', 'blockbust', 'lagard', '1-month', 'manganiello', 'doubt', 'upcom', 'sag', 'generat', 'deputi', 'alexand', '+', '88', 'snub', 'modern', 'tina', 'fey', 'mh17', 'fiance', 'malcolm', 'devast', 'pre', 'crown', 'hillshir', 'jumpsuit', 'heartbreak', 'spike', 'sad', 'kitti', 'draper', 'version', 'agreement', 'buoy', 'cruis', 'peak', 'm', 'falter', 'enrol', 'knuckl', 'hyundai', 'coal', 'vega', 'wide', 'widow', '4-month', 'y', 'embarrass', 'thought', 'chipotl', 'heigl', 'autism', 'brittani', 'cannabi', 'ed', 'diamond', 'exchang', 'telescop', 'barbara', 'sutherland', 'sweet', 'mrs', 'doubtfir', 'couric', 'flu', 'numb', 'mega', '23', 'tarantino', 'billi', 'affair', 'confront', 'fantast', 'violat', 'coldplay', 'honor', 'lamar', 'geopolit', 'gaug', 'statement', 'choos', 'finish', 'sawyer', 'exact', 'maintain', 'pan', 'ginnif', 'goodwin', 'pack', 'gasolin', 'communic', 'nicol', 'kidman', 'boo', 'chicago', 'favorit', 'persh', 'stunt', 'practic', 'saudi', 'hampton', 'construct', 'van', 'hip', 'funni', 'matter', 'dealer', 'stumbl', 'testifi', 'pamela', '26', 'exec', '10-year', 'request', 'mcdermott', 'colleg', 'backlash', 'hawk', 'seal', 'largest', 'oppos', 'airplan', 'caught', 'xscape', 'weaker', 'anxieti', 'publici', 'quiet', 'anita', 'decid', 'soda', 'palladium', 'twist', 'borrow', 'mile', 'outdoor', 'pizza', 'taxi', 'culkin', 'ramp', 'ani', 'expir', 'hunger', 'poll', 'duti', 'previous', 'lloyd', 'chicken', 'cryptic', 'offset', 'local', 'aa', 'glori', 'acm', 'eurovis', 'bbc', 'taper', 'express', 'banana', 'rio', 'sheer', 'axe', 'eras', 'earthquak', 'divid', 'vw', 'fell', 'fighter', 'cri', 'spokesman', 'commit', 'cara', 'nuclear', 'garner', 'plot', 'astronom', 'illinoi', 'fonda', '70', 'seacrest', 'constancio', 'tragic', 'kaley', 'cuoco', 'motorola', 'hors', 'alabama', 'marquez', 'resist', 'anyth', 'explos', '91', 'trademark', 'digest-', 'kit', 'communiti', 'factbox', 'lynn', 'maya', 'rainbow', 'coast', '113', 'saturn', 'muni', 'larri', 'silicon', 'ma', 'lender', 'uphold', 'emiss', 'nervous', 'estrang', 'meteor', 'cement', 'told', 'proud', 'tupac', 'deficit', 'gloom', 'bennett', 'pc', 'pare', 'day-', 'al', 'ivi', 'boycott', '2-amazon', 'iwatch', 'racism', 'sight', 'thor', 'litig', '1-googl', 'killer', '1-russia', 'sting', 'anthrax', 'conduct', 'brazil', '36', 'core', 'skeptic', 'harass', 'anger', 'segel', 'unlik', 'copper', 'carter', 'lake', 'refineri', 'paint', 'fifti', 'solut', 'prison', 'schumach', 'airbus', 'addit', 'rippl', 'alter', 'oversea', 'audienc', 'wright', 'gop', 'botox', 'pride', 'sheen', '2-appl', 'sit', 'depot', 'argument', 'town', 'junk', 'given', 'wto', 'fianc', 'painkil', 'slap', 'greec', 'donat', 'vulner', 'dynasti', 'extrem', '43', 'diet', 'tea', 'tender', 'jan', 'bros.', 'spoiler', 'park', 'rr', 'mous', 'bmw', 'score', 'zero', 'angri', 'boom', 'clown', 'aig', 'pinnacl', 'domin', 'each', 'password', 'harm', 'kickstart', 'yellow', 'unchang', 'carolina', '30-year', 'serious', 'okcupid', 'cure', 'excit', 'grace', 'lane', 'crowd', 'skirt', '©', 'osborn', 'faa', 'repair', 'pandora', 'listen', 'peer', 'hide', 'horton', 'bean', 'respond', 'ape', 'danni', 'ten', 'asiana', 'ascend', 'dov', 'dimon', 'osbourn', 'hammer', 'moral', 'bbb-', 'dump', 'corp', 'both', 'belov', 'nadella', 'licens', 'kiefer', 'arm', 'balanc', 'jersey', 'media', 'lee', 'custodi', 'cola', '2.3', '3000', 'damp', 'doom', 'quentin', 'ridicul', 'roseland', 'stabil', 'subscript', 'crimea', 'cube', 'barri', \"o'neil\", 'bever', '21', 'dj', '-report', 'beatl', 'murphi', 'lilli', 'hospitalis', 'tankan', 'mood', '47', 'dash', 'falcon', 'geithner', 'commerc', 'reynold', 'scotti', 'mccreeri', 'j', 'benzino', 'nephew', 'ciara', 'stanc', 'shakira', 'allur', 'modest', 'dna', 'swing', 'medicin', 'broke', 'strahan', 'bloomberg', 'radio', 'embrac', 'palm', 'mcadam', 'draft', 'broker', 'paparazzi', 'payrol', 'shirt', 'idea', 'disord', 'venic', 'relax', 'boston', 'guest', 'crime', 'caterpillar', 'reserv', 'complaint', 'rant', 'fault', 'popular', 'sean', 'mac', 'lay', 'holdout', 'prinz', 'no.1', 'narrow', 'stalker', 'bump', 'pat', 'seem', 'danica', 'brocki', 'coffe', 'vma', 'crossov', 'histor', 'rubl', 'prosecutor', 'suspect', 'mexican', 'least', 'katt', 'portug', 'mara', 'janet', 'compens', 'bni', 'duchess', 'cambridg', 'addict', 'gate', 'byne', 'daddi', 'warren', 'widen', 'allianc', 'bust', 'armi', 'webb', 'downgrad', 'garden', 'phil', 'mockingjay', 'scheme', 'fewer', 'alley', 'sold', 'within', 'remark', 'paid', 'jem', 'toy', 'pistorius', 'corey', '1.8', 'burst', 'dioxid', 'miscarriag', 'eagl', 'restrict', 'smash', 'permit', 'ii', 'rover', 'midriff', 'smartwatch', '1-ni', 'prank', 'cautious', 'fare', 'macaulay', 'hole', 'robust', 'knight', 'seinfeld', 'thriller', 'victori', 'attach', 'gere', 'portray', 'dinner', 'dish', 'sketch', 'vix', 'exxon', 'beer', 'client', 'naomi', 'dolli', 'parton', 'brace', 'outflow', '4.5', 'ratio', 'chad', 'bounc', 'tower', 'structur', 'squeez', 'inc.', 'thin', 'prankster', 'spinoff', 'disturb', 'ub', 'knot', 'delevingn', 'durabl', '2.6', 'covidien', 'handl', '3rd', 'vanessa', 'tomlin', 'senior', 'ancier', 'signific', 'shame', 'scrap', 'crazi', 'locat', 'recommend', 'faster', 'opera', 'commiss', 'bureau', 'slim', 'disclosur', 'truth', 'gabriel', 'flop', 'staff', 'god', 'broken', 'ankl', 'horror', 'strang', 'zealand', 'harington', 'spare', 'angelou', 'metro', 'excess', 'softbank', 'averag', 'buyback', 'adapt', 'complianc', 'swipe', 'shanghai', 'trillion', 'diari', 'intensifi', 'outkast', 'startup', '5-month', 'swim', 'alon', '4000', 'avert', '59', 'vindic', 'honorari', '1300', 'crystal', 'sfr', 'appoint', 'crumb', 'jeep', 'underground', 'neighbour', 'smoker', 'duet', 'odd', 'committe', 'map', 'noto', 'decreas', 'jk', 'southwest', 'stronger', 'cadillac', 'commerci', 'fedex', 'protein', 'invad', 'spi', 'evacu', 'elev', 'lew', 'nyt', 'religi', 'avail', 'poor', 'taiwan', 'edgar', 'inspect', 'momoa', 'aquaman', 'mind', 'bondhold', 'parad', 'fifth', 'transport', 'troop', 'buyout', 'fiscal', 'pend', 'breaker', 'grind', 'g', 'nomine', 'calm', 'rehears', 'divers', 'collabor', 'disick', '2008', 'drill', 'chat', 'wisconsin', 'adventur', '`', 'gorgeous', 't.', 'peek', 'bind', 'spotlight', 'insight', 'adp', 'egypt', 'depress', 'sandberg', 'rail', 'valv', 'immin', 'daimler', 'nintendo', '1-year', 'cinco', 'cook', 'academi', 'poison', 'truck', 'mozilla', 'ouster', 'ray', 'israel', 'jude', 'coloni', 'won', 'scari', 'hsbc', 'loos', 'rang', 'astronaut', 'skill', 'dot', 'nighter', '7th', 'nashvill', 'wave', 'sach', 'status', 'copaxon', 'confus', 'rupert', 'cheer', 'journal', 'termin', 'estat', 'bulgarian', 'favor', 'eli', 'present', 'strength', 'nanci', 'hurdl', 'zebra', 'gone', 'comedian', 'tree', 'freeman', 'slur', 'aveng', 'tune', 'pension', 'duck', 'cabaret', 'initi', 'pollen', 'scout', 'taken', 'ruffalo', 'royal', 'hedwig', 'sharknado', 'lng', 'aaa', 'dublin', 'refund', 'quick', 'berri', 'southern', 'proceed', 'merced', 'zuckerberg', 'iranian', 'honeymoon', '78', 'romant', 'ft', 'therapi', 'lock', 'las', 'brunei', 'airbnb', 'wari', 'legaci', 'willi', '1-gm', 'wick', 'spacecraft', 'thrill', 'effort', 'hast', 'mayb', 'jill', 'wealth', 'weekahead', 'tighten', '9/11', 'dirti', 'b.', 'alic', 'hat', 'pm', 'bow', 'bat', 'randal', '1/2-year', 'holi', 'jenna', 'dewan', 'takeda', 'cheerlead', 'nikki', 'emir', 'hostil', '110', 'ear', 'compet', \"d'or\", 'adel', 'fool', 'notebook', 'whilst', 'liberia', 'abram', 'versac', 'materi', 'error', 'j&j', '2-microsoft', 'jesus', 'wearhous', 'jos', 'a.', 'wind', 'bullish', 'gentiva', 'laugh', 'olsen', 'rhode', 'zaki', 'pooch', 'activis', 'itself', 'artwork', 'antitrust', 'richi', '1.2', 'f', 'tank', 'christin', 'mayhew', 'dylan', 'twc', 'tackl', 'wast', 'turkish', 'luxuri', 'hover', 'gallon', 'frank', 'mckellar', 'gwar', 'brave', 'shortag', 'dre', 'oh', 'lash', 'poster', 'dim', 'subpoena', 'those', 'jewish', 'codi', 'riski', 'nobodi', 'hungari', 'monitor', 'counter', 'daniell', 'rupe', 'pen', 'greas', 'mellon', 'shi', 'cfda', 'hello', 'ken', 'diner', 'c.bank', 'keen', 'shakur', 'bra', 'nike', 'taxpay', 'collin', 'clone', 'later', 'bionic', 'idr', 'destroy', 'snake', 'frontman', 'idina', 'menzel', 'andr', 'peltz', 'audit', 'whitey', 'bulger', 'mass', 'cruze', 'eve', 'adrienn', 'bailon', 'clinton', 'k', 'kirsti', 'hop', 'a+', 'slowdown', 'christi', 'footag', 'margin', 'allegi', 'happili', 'flick', 'citizen', 'omnicom', 'bodyguard', 'journey', 'departur', '1/2-yr', 'purpl', 'button', 'guillon', 'thailand', 'unfollow', 'distanc', 'rodger', 'download', 's5', 'dozen', 'lg', 'window', 'aol', 'unitedhealth', '3-year', 'sovaldi', 'intellig', 'extens', 'rider', 'greenhous', '72', 'adob', 'shield', 'creepi', 'evolut', '2-bnp', 'snoop', 'quest', 'weidmann', 'ms', 'toss', 'toxic', 'zillow', '2-bank', 'equip', 'emc', 'induct', 'firth', '-studi', 'mya', 'stairway', 'intuit', 'siriusxm', 'adkin', 'gareth', 'derrier', 'evas', 'disast', 'collid', 'zach', 'bridg', 'ranbaxi', 'clash', 'dreyfus', 'garcia', 'portfolio', 'steinberg', 'paedophil', 'flip', '20000', 'respect', 'breakup', 'held', 'cyber', 'overheat', '51', 'document', 'basic', 'athlet', 'neeson', 'io', 'circus', 'wheel', 'ir', 'gave', 'dodg', 'sky', 'charliz', 'theron', 'embark', 'anem', 'chug', 'cop', 'slave', '1-soni', 'programm', 'newspap', 'tokyo', '7.4', 'then', 'cheaper', 'observ', 'pic', 'bradley', 'noyer', 'bisexu', 'capitalist', 'alreadi', 'bouygu', 'lack', 'lisa', '2.4', 'exodus', 'miser', 'mth', 'grandfath', 'orlean', 'carmak', 'mr.', 'fluctuat', 'analysi', 'collis', 'articl', 'wipe', 'heroin', 'jab', 'hendrick', 'bogus', 'meat', '1.1', 'poet', '86', 'answer', 'alcoa', 'gupta', 'yourself', 'tunnel', 'breakdown', 'campbel', 'horribl', 'ventur', 'reclaim', 'divestitur', 'asteroid', 'eclips', 'semit', 'mastectomi', 'tencent', 'left', 'bike', 'rewrit', 'mazurski', 'lax', 'q&a', 'defeat', '1-appl', 'period', 'border', 'mump', '56', 'smell', 'levi', 'summit', 'weibo', 'annual', 'sharp', 'strateg', 'uptick', 'bailout', 'oti', 'height', 'fabul', 'gift', 'terrifi', 'secretari', 'creation', 'holm', 'buzz', '1-uk', 'angus', 'salari', 'farley', 'mowat', '92', 'tip', 'horizon', 'boot', 'tepid', 'nia', 'damon', 'toilet', 'shed', 'swedish', 'sharpli', 'teacher', 'definit', 'nj', '1-bank', 'govt', 'minnesota', 'sara', 'gilbert', 'linda', 'gambl', 'seventeen', 'salad', 'greater', 'refer', 'degrass', 'talent', 'lobster', 'punch', '1-britain', 'pig', '1.36', 'singpost', 'gross', 'mayo', 'situat', '-who', 'theater', 'gotham', 'shrug', 'jodi', 'foster', 'describ', 'lo', 'hell', 'kurdish', 'cancelcolbert', 'alaska', 'maksim', 'meryl', 'wheelchair', 'racial', 'iron', 'housekeep', 'beyoncã', 'liquid', 'mute', 'suntrust', \"o'dowd\", '5-year', 'oversight', 'shell', 'colorado', 'recreat', 'lunar', 'boyl', 'duan', 'seizur', 'faith', '218000', 'steven', '5000', 'merkel', 'dakota', 'st.', 'raytheon', 'fenc', 'finalist', 'dye', 'sparkl', 'bargain', 'tamper', 'viral', 'homophob', 'vodafon', 'robertson', 'friendship', 'easyjet', 'hook', 'centr', 'molest', 'iran', 'loyal', 'also', '114', 'victoria', 'beckham', 'chair', 'shadow', 'altern', 'epidem', 'mugshot', 'reset', 'cranston', 'goodby', 'divest', 'bash', 'coca', 'wanna', 'beasti', 'cycl', 'epic', 'quinta', '2-brent', 'freez', 'novatek', 'ballroom', 'fincher', 'wonder', 'tobi', 'kebbel', 'villain', 'interact', 'monopoli', 'cpi', 'teas', 'bracelet', 'rental', 'covet', 'benzen', 'uncertainti', 'methan', 'barack', 'chao', 'stroll', 'len', '2-franc', 'mcchrystal', 'wu', 'tang', 'clan', 'curv', 'mario', 'kimmel', 'finger', 'guard', '4.2', 'capex', 'sweeney', 'shakespear', 'lure', 'saw', 'creativ', 'leftov', 'huntsman', 'tomorrow', '2006', 'lorillard', 'gunpoint', 'downtown', 'bergdahl', 'contend', 'apach', 'levar', 'burton', 'miller', 'gush', 'intellectu', 'cinema', 'dove', 'patch', 'trick', 'wow', 'arthur', 'dudley', 'okay', 'mate', 'ok', '150', 'vice', 'insan', 'daum', 'kakao', 'harder', 'builder', 'temper', 'pattern', 'laps', 'odom', 'southeast', 'sensor', 'meg', 'lynch', 'jj', 'bridesmaid', 'simul', 'ash', 'turmoil', 'rethink', '30th', 'charter', 'asid', 'saft', 'scan', 'telefonica', 'wine', 'soul', 'mixtap', 'elton', 'camp', 'inequ', 'smaller', 'im', 'portrait', 'beau', 'chest', 'bore', 'hybrid', 'competitor', 'ton', 'unleash', 'horn', 'lionel', 'classic', 'brian', 'breakthrough', 'denim', 'rex', 'els', 'injuri', 'retract', 'iceland', 'superhero', 'espi', 'establish', 'cosmet', 'laser', 'cat', 'persist', 'muse', 'mourn', '280', 'inflow', 'impli', 'nadin', 'gordim', 'denial', 'remot', 'surround', 'captur', 'clock', 'luxottica', 'austria', 'advert', 'disgust', 'stover', 'jewelri', 'elimin', '108', '1.6', 'pro', 'sand', 'nsfw', 'mia', 'nsa', 'went', 'prefer', 'infam', 'ballet', 'georgina', 'haig', 'reign', 'sarandon', '120', 'partial', 'transpar', 'decemb', '31', 'surf', 'redskin', 'shipment', 'pilling', 'stripe', 'tale', 'simpl', 'egg', 'leno', 'nas', '28th', 'wahlberg', 'assist', 'bolster', 'wilson', 'h', 'male', 'macfarlan', 'inventori', 'massachusett', 'devot', 'nobl', 'nook', 'toya', '1-saudi', 'extort', 'loach', 'stoke', 'intens', 'zip', 'hobbit', 'shopper', 'aka', 'aviat', '2007', 'muscl', 'base', 'impos', 'molner', 'lenovo', 'thaw', '2.1', 'seafood', '64', 'vacat', 'trebek', 'imposs', 'quicken', 'mayer', 'godfath', 'markit', 'youth', 'basket', 'everywher', 'sexism', 'defi', 'bulli', 'withdraw', 'con', 'peni', 'wealthi', 'nose', 'reckless', 'dealtalk', 'hinder', 'function', 'inquiri', 'abercrombi', 'puff', 'theatr', 'sentenc', 'guess', 'amidst', 'wors', 'petsmart', 'lithuania', 'crew', 'sort', '2.5', 'wane', 'longoria', 'path', 'bangladesh', 'dr', 'dent', 'chees', 'takata', 'standoff', 'soil', 'lachey', 'charm', 'ragu', 'makeov', 'francisco', 'crack', 'spacey', 'paramount', 'minidress', 'octopus', 'honey', 'subsidi', 'lucki', 'prematur', 'ethan', 'ranger', 'anglo', 'awkward', 'recess', 'clair', 'holt', 'color', 'chemistri', 'survivor', 'cnbc', '87', 'spat', 'awar', 'determin', 'abandon', 'mosquito', '1-putin', 'paetz', 'coverag', 'nhtsa', 'lavish', 'coppola', 'mermaid', 'stalk', '68', 'someon', 'hey', 'spice', \"gov't\", 'wilmer', 'valderrama', 'upton', 'appetit', 'opinion', 'monro', 'confess', 'briefli', 'whitney', 'houston', 'harsh', 'aliv', 'hoax', 'artifici', 'finalis', 'predat', 'string', 'padma', 'lakshmi', 'noriega', 'underpin', 'realist', 'dixon', 'wit', 'reap', 'gmail', 'born', 'elisabeth', 'moss', 'condemn', 'bush', 'moscow', '1.9', 'upstag', '1-toyota', 'paddington', 'colfer', 'martha', 'lifestyl', 'oklahoma', 'applic', 'infidel', 'pole', 'fruit', 'cottag', 'marshal', 'broadband', 'strain', 'drunk', 'moodi', 'parodi', 'mint', 'coulier', 'recoup', 'bowl', 'doj', 'chanel', 'refin', '1-medtron', 'combat', 'blind', 'flaunt', 'paradi', 'braff', 'railroad', 'writer', 'uberx', 'commemor', 'sword', 'statist', 'recogn', '2-month', 'undervalu', 'offshor', 'virginia', '1-target', 'nest', 'emili', 'complain', 'iwata', 'tread', 'languag', 'select', 'volkswagen', 'kristeen', 'fleet', 'fy', 'familiar', 'brake', 'bonus', 'captiv', 'edgi', 'frock', 'heel', 'pokerstar', 'amaya', 'eventu', 'atlant', 'bey', 'autonomi', 'soundtrack', 'lotteri', 'bezo', '1-fda', 'uterin', 'symantec', 'cupcak', 'salli', 'instal', 'alarm', 'leagu', 'elec', '-cdc', 'groceri', 'clue', 'fin', 'pataki', 'bbb', 'bis', 'titan', 'aerospac', 'mta', 'bum', 'millionair', 'centuri', 'wolverin', 'newcom', 'clark', 'pip', 'mode', 'bode', 'backtrack', 'portion', 'dmv', 'halston', 'sage', 'singapor', 'drift', 'loot', 'energet', 'gowex', 'penney', 'penalti', '101', 'anchor', 'nationwid', 'possess', '5-gm', 'utah', 'boat', 'dissent', 'greedi', 'samuel', 'l.', 'aa+', '1-ex', 'medit', 'pinterest', 'lacklust', 'norway', 'celgen', 'psoriat', 'arthriti', 'jare', 'spoof', '1-week', 'fishnet', 'glaxo', 'safran', 'cliff', 'uncomfort', 'remedi', 'overshadow', '450', 'aisl', 'rough', 'frosti', 'bandmat', '3.45', 'bruis', 'am', 'bail', 'bone', 'camel', '84', 'unaccept', 'driller', 'discount', 'jazz', 'uniqu', 'administr', 'roar', 'jetblu', 'shr', 'apatow', 'rage', 'royalti', 'conflict', 'idri', 'elba', 'winston', 'hawaii', 'olymp', 'champion', 'junip', 'pussi', 'nigeria', '2016', 'aa-', '1-argentina', 'cocain', 'numeric', 'fortun', 'reservoir', 'sudeiki', 'pile', 'sperm', 'bacteria', 'newborn', 'wang', 'h&m', 'pray', \"o'mara\", '74', '50th', 'arctic', 'wheelan', '1-twitter', 'hog', 'immedi', 'cholesterol', 'strict', 'integri', 'glamour', 'gustin', 'unicredit', 'min', 'accident', 'opt', 'casual', 'jacket', 'dotcom', 'dutch', 'aboard', 'preview', 'underway', 'gallbladd', 'vardalo', 'skid', 'clever', 'dilemma', 'esposito', 'ism', 'lineup', '9-month', 'nickelodeon', 'exploit', 'bing', 'cavallari', 'identifi', 'potato', 'inner', 'sheryl', 'honeywel', 'bearish', 'dempsey', 'oliv', 'avocado', 'wale', 'troll', 'carniv', '3-wk', 'renesa', 'inact', 'stabilis', 'achiev', 'jitter', 'missil', 'hater', 'nokia', \"'s\", 'sibl', 'outlin', 'bibl', 'cee', 'spree', '6-year', 'sitcom', 'ninja', 'turtl', 'dom', 'chmerkovskiy', 'abe', '–', 'interrupt', 'unhappi', 'advoc', 'paraglid', '1-canadian', 'mooni', 'tummi', 'pencil', 'suck', 'richman', 'rank', 'sam', 'derrickson', 'footbal', 'homebuild', 'pipe', 'meester', 'hardwar', 'pact', 'drought', 'weed', 'floor', 'maureen', 'dowd', 'misguid', '5c', 'certifi', 'launcher', 'tradit', 'pricey', 'packag', 'heather', 'grint', 'driven', '7-year', 'gender', 'ryanair', 'cyprus', 'throat', 'moonlight', 'bewar', 'militari', 'pharmaci', 'spielberg', 'mclarti', 'oracl', 'copi', '370', 'wallach', 'erykah', 'badu', 'grade', 'flavor', 'missionari', 'flagship', 'pacemak', 'rosemari', 'zoe', 'saldana', 'chill', 'repres', 'nab', '1-american', 'sheet', 'petco', 'ultron', '7.2', '111', \"o'connor\", 'gigolo', 'propel', '1-bnp', 'summon', 'betray', 'remaind', 'verdict', 'guarante', 'isaac', 'booti', 'grill', 'sugar', 'curri', 'mountain', '4-brent', 'wholesal', 'tiger', 'exhibit', 'edi', 'brickel', 'domest', 'harley', 'rural', '14th', 'argu', 'beg', 'antarct', 'aspir', 'thornton', 'getaway', 'flee', '49', 'peanut', 'perceiv', 'benz', '4/20', 'tame', 'dame', 'trulia', '1-microsoft', 'elig', '33', 'buoyant', 'assign', 'sharia', 'code', 'stir', 'paisley', 'baptist', 'surgeon', 'laura', 'themselv', 'tutori', 'stark', 'den', 'ensembl', 'eliza', 'dushku', 'grappl', 'hijack', 'cute', 'flashback', 'bunni', 'proxi', 'conquer', 'annex', 'u', 'zombi', 'iss', 'ebb', '2011', 'unfaz', 'sultri', 'reed', 'dear', 'bask', 'blunt', '5-week', 'delhi', 'revolut', 'vial', 'beast', 'invas', 'gradual', 'volcano', 'erupt', 'chevron', 'prenup', 'harvest', 'convinc', 'knox', 'binoch', 'wheeler', 'posthum', 'strand', 'repo', 'whose', 'exot', 'guitarist', 'paulson', 'l.a.', 'roil', 'nz', 'underwear', 'cater', 'indict', 'conjoin', 'yes', 'privileg', 'poss', 'cosmos', 'gamestop', 'macbook', 'cheapest', 'wikipedia', 'implement', 'trilog', 'signer', 'ted', 'jim', 'jerri', 'ignor', 'implant', 'mediat', 'brunch', 'klan', 'dwindl', 'unheard', 'dan', '-us', 'jewel', 'tiffani', 'stagnat', 'deserv', 'attent', 'j.k.', 'hail', 'glimps', 'sent', 'kindr', 'smile', 'getti', 'empir', '89', 'reloc', 'merck', 'grass', 'facial', '473', 'notic', 'mill', 'disappear', 'underwrit', 'transfer', 'gritti', 'recip', 'creatur', 'brighten', '2-bmw', '-draghi', 'elliot', 'opent', 'prescript', 'defenc', 'habit', 'zara', 'fetch', 'foe', 'superbug', 'heighten', 'warhol', 'ftseurofirst', 'garcía', 'márquez', 'feloni', 'alec', 'annoy', 'gorman', 'glitter', 'institut', 'kramer', 'anni', 'receipt', 'yacht', '4.3', 'condens', 'comfort', 'alongsid', 'glow', 'yuko', 'mastermind', 'cameo', 'dolc', 'mcvie', 'diva', 'latino', 'chai', 'dock', 'viacom', 'driverless', '6.9', '16000', 'paypal', 'memor', 'foundat', 'jennett', 'mccurdi', 'lens', '8.8', 'vivendi', 'kroger', 'kreme', 'weapon', 'trek', 'matern', 'barbra', 'streisand', 'von', 'o2', 'roch', 'runway', 'seventh', '84000', 'similar', 'tomlinson', 'conchita', 'wurst', 'unsettl', 'lindt', 'suv', 'clarkson', 'conan', 'cbank', 'politician', 'speci', 'sovereign', 'flurri', 'coyn', 'ball', 'anytim', 'qualcomm', 'newest', 'breakfast', 'dai', 'ichi', 'fairfax', 'lebron', '2-week', 'aw', 'slowest', 'tinder', 'gisel', 'liu', 'consolid', 'savag', 'whatsapp', 'rescuer', 'wrap', 'microb', 'editor', 'wield', 'titl', '3-at&t', '1-fanni', 'foxx', 'ancient', 'anymor', 'bridal', 'carlo', 'airshow', 'fyff', 'decept', 'destini', 'fiber', 'footstep', 'mask', 'bloodi', 'hudson', 'cumia', 'circl', 'sustain', 'mitsubishi', 'cargil', 'caleb', 'yawn', 'trio', 'venu', 'chastain', 'purpos', 'melanoma', 'upset', 'plummet', 'type', 'usher', 'buri', 'arcad', 'hawkish', 'suppos', 'armstrong', 'passov', 'documentari', 'dread', 'knew', 'joffrey', 'bb+', 'grown', 'foxcatch', 'isra', 'cref', 'nuveen', 'ashley', 'mrs.', 'promo', 'plosser', '1-samsung', 'landfil', 'homeland', 'rebhorn', 'millennium', 'mayweath', 'brawl', 'urin', '1-pfizer', 'barn', 'movil', 'unknown', 'princip', '3-china', 'lululemon', 'replica', 'scope', 'cowel', 'intim', 'barrel', 'sack', 'galavi', 'english', 'balli', 'shelv', 'dem', 'wound', 'fischer', 'eleph', 'root', 'hillari', 'pixi', 'ag', 'ador', 'dairi', 'branson', 'quarantin', 'lobbi', 'depend', 'saga', 'p&g', 'elus', 'alamo', 'stuff', 'eczema', 'coma', 'trump', 'nurs', '3.3', 'ivan', 'reitman', 'stolen', 'absolut', 'syndrom', 'assess', 'craze', 'sardinia', '1990s', 'silent', 'older', 'yum', 'enlist', 'connick', '2-blackberri', 'ricci', 'onscreen', 'server', 'joseph', 'serial', 'forgotten', 'solo', 'welfar', 'picket', 'distant', '1-new', 'mirror', 'nail', 'attenborough', 'buddi', 'tesco', 'benchmark', 'cox', 'except', 'hasselbeck', 'drugmak', 'bundesbank', 'bumper', 'gaza', 'multipl', '8-month', 'attract', 'novemb', 'gadget', '1-mt', 'pair', 'birdman', 'lauer', 'tilt', '400', 'angara', 'squar', 'submit', 'nightclub', 'trampl', 'raw', 'cow', 'sooth', 'freedom', 'raccoon', 'groom', 'akb48', 'anonym', 'plug', 'valeri', 'harper', 'transmiss', '1-guinea', 'repay', 'slash', '1-german', 'soccer', 'dina', 'encount', 'endo', 'successor', '1-japan', 'mobiley', 'raid', 'oilfield', '2001', 'espirito', 'santo', 'joss', 'whedon', 'rear', 'inject', 'brush', 'pancrea', 'richest', 'vanquish', 'garment', 'anyon', 'lancer', 'swirl', 'punish', 'liar', 'dupont', 'fantasi', 'prep', 'jessi', 'kathleen', 'sebelius', 'kpn', 'transact', 'b-', 'bidder', 'satisfi', '1-fed', 'adida', '4-day', 'kendra', 'ferrel', 'powder', 'headlight', 'mechan', 'bubbl', 'unilev', '2.15', 'vincent', 'gogh', 'royc', 'knee', 'jam', \"int'l\", 'christ', 'tequila', 'antonoff', 'patricia', 'stoog', 'undergo', 'christoph', 'detain', 'gilt', '60000', 'meaning', 'lavrov', 'nyse', 'empti', 'bath', 'tycoon', 'calori', 'donald', 'allman', 'comb', 'headgear', 'bruno', 'nobel', 'romania', 'ikea', 'mockingbird', '1-vietnam', 'unfair', 'discoveri', 'escal', 'spirit', 'coleman']\n"
     ]
    }
   ],
   "source": [
    "from collections import Counter\n",
    "\n",
    "# 出現頻度を数える\n",
    "counter = Counter([\n",
    "    token\n",
    "    for tokens in tokenized_train\n",
    "    for token in tokens\n",
    "])\n",
    "\n",
    "# 高頻度・低頻度の語を取り除く\n",
    "vocab = [\n",
    "    token\n",
    "    for token, freq in counter.most_common()\n",
    "    if 2 < freq < 300\n",
    "]\n",
    "\n",
    "#print(counter.most_common())\n",
    "print(vocab)\n",
    "len(vocab)\n",
    "\n",
    "with open('output/vocab_for_news.txt', 'w') as f:\n",
    "    for token in vocab:\n",
    "        print(token.encode('cp932','ignore'), file = f)"
   ]
  },
  {
   "cell_type": "code",
   "execution_count": 34,
   "metadata": {},
   "outputs": [
    {
     "ename": "FileNotFoundError",
     "evalue": "[Errno 2] No such file or directory: './output/train.feature.txt'",
     "output_type": "error",
     "traceback": [
      "\u001b[1;31m---------------------------------------------------------------------------\u001b[0m",
      "\u001b[1;31mFileNotFoundError\u001b[0m                         Traceback (most recent call last)",
      "\u001b[1;32m<ipython-input-34-d15308ad1d40>\u001b[0m in \u001b[0;36m<module>\u001b[1;34m\u001b[0m\n\u001b[1;32m----> 1\u001b[1;33m \u001b[1;32mwith\u001b[0m \u001b[0mopen\u001b[0m\u001b[1;33m(\u001b[0m\u001b[1;34m'./output/train.feature.txt'\u001b[0m\u001b[1;33m)\u001b[0m \u001b[1;32mas\u001b[0m \u001b[0mf\u001b[0m\u001b[1;33m:\u001b[0m\u001b[1;33m\u001b[0m\u001b[1;33m\u001b[0m\u001b[0m\n\u001b[0m\u001b[0;32m      2\u001b[0m     \u001b[0mtable\u001b[0m \u001b[1;33m=\u001b[0m \u001b[1;33m[\u001b[0m\u001b[0mline\u001b[0m\u001b[1;33m.\u001b[0m\u001b[0mstrip\u001b[0m\u001b[1;33m(\u001b[0m\u001b[1;33m)\u001b[0m\u001b[1;33m.\u001b[0m\u001b[0msplit\u001b[0m\u001b[1;33m(\u001b[0m\u001b[1;34m' '\u001b[0m\u001b[1;33m)\u001b[0m \u001b[1;32mfor\u001b[0m \u001b[0m_\u001b[0m\u001b[1;33m,\u001b[0m \u001b[0mline\u001b[0m \u001b[1;32min\u001b[0m \u001b[0mzip\u001b[0m\u001b[1;33m(\u001b[0m\u001b[0mrange\u001b[0m\u001b[1;33m(\u001b[0m\u001b[1;36m10\u001b[0m\u001b[1;33m)\u001b[0m\u001b[1;33m,\u001b[0m \u001b[0mf\u001b[0m\u001b[1;33m)\u001b[0m\u001b[1;33m]\u001b[0m\u001b[1;33m\u001b[0m\u001b[1;33m\u001b[0m\u001b[0m\n\u001b[0;32m      3\u001b[0m \u001b[0mpd\u001b[0m\u001b[1;33m.\u001b[0m\u001b[0mDataFrame\u001b[0m\u001b[1;33m(\u001b[0m\u001b[0mtable\u001b[0m\u001b[1;33m,\u001b[0m \u001b[0mcolumns\u001b[0m\u001b[1;33m=\u001b[0m\u001b[1;33m[\u001b[0m\u001b[1;34m'category'\u001b[0m\u001b[1;33m]\u001b[0m \u001b[1;33m+\u001b[0m \u001b[0mfeatures\u001b[0m\u001b[1;33m)\u001b[0m\u001b[1;33m\u001b[0m\u001b[1;33m\u001b[0m\u001b[0m\n",
      "\u001b[1;31mFileNotFoundError\u001b[0m: [Errno 2] No such file or directory: './output/train.feature.txt'"
     ]
    }
   ],
   "source": [
    "with open('./output/train.feature.txt') as f:\n",
    "    table = [line.strip().split(' ') for _, line in zip(range(10), f)]\n",
    "pd.DataFrame(table, columns=['category'] + features)"
   ]
  },
  {
   "cell_type": "code",
   "execution_count": 169,
   "metadata": {},
   "outputs": [
    {
     "ename": "ValueError",
     "evalue": "could not convert string to float: \"World's Largest-Ever Flying Bird Had Huge Wingspan, Fossil Shows\"",
     "output_type": "error",
     "traceback": [
      "\u001b[1;31m---------------------------------------------------------------------------\u001b[0m",
      "\u001b[1;31mValueError\u001b[0m                                Traceback (most recent call last)",
      "\u001b[1;32m<ipython-input-169-8b8f87db0cf5>\u001b[0m in \u001b[0;36m<module>\u001b[1;34m\u001b[0m\n\u001b[0;32m      2\u001b[0m \u001b[1;33m\u001b[0m\u001b[0m\n\u001b[0;32m      3\u001b[0m \u001b[0mlr\u001b[0m \u001b[1;33m=\u001b[0m \u001b[0mLogisticRegression\u001b[0m\u001b[1;33m(\u001b[0m\u001b[0mmax_iter\u001b[0m\u001b[1;33m=\u001b[0m\u001b[1;36m1000\u001b[0m\u001b[1;33m)\u001b[0m\u001b[1;33m\u001b[0m\u001b[1;33m\u001b[0m\u001b[0m\n\u001b[1;32m----> 4\u001b[1;33m \u001b[0mlr\u001b[0m\u001b[1;33m.\u001b[0m\u001b[0mfit\u001b[0m\u001b[1;33m(\u001b[0m\u001b[0mtrain\u001b[0m\u001b[1;33m[\u001b[0m\u001b[1;34m\"TITLE\"\u001b[0m\u001b[1;33m]\u001b[0m\u001b[1;33m,\u001b[0m \u001b[0mtrain\u001b[0m\u001b[1;33m[\u001b[0m\u001b[1;34m\"CATEGORY\"\u001b[0m\u001b[1;33m]\u001b[0m\u001b[1;33m)\u001b[0m\u001b[1;33m\u001b[0m\u001b[1;33m\u001b[0m\u001b[0m\n\u001b[0m",
      "\u001b[1;32m~\\Anaconda3\\lib\\site-packages\\sklearn\\linear_model\\_logistic.py\u001b[0m in \u001b[0;36mfit\u001b[1;34m(self, X, y, sample_weight)\u001b[0m\n\u001b[0;32m   1523\u001b[0m \u001b[1;33m\u001b[0m\u001b[0m\n\u001b[0;32m   1524\u001b[0m         X, y = check_X_y(X, y, accept_sparse='csr', dtype=_dtype, order=\"C\",\n\u001b[1;32m-> 1525\u001b[1;33m                          accept_large_sparse=solver != 'liblinear')\n\u001b[0m\u001b[0;32m   1526\u001b[0m         \u001b[0mcheck_classification_targets\u001b[0m\u001b[1;33m(\u001b[0m\u001b[0my\u001b[0m\u001b[1;33m)\u001b[0m\u001b[1;33m\u001b[0m\u001b[1;33m\u001b[0m\u001b[0m\n\u001b[0;32m   1527\u001b[0m         \u001b[0mself\u001b[0m\u001b[1;33m.\u001b[0m\u001b[0mclasses_\u001b[0m \u001b[1;33m=\u001b[0m \u001b[0mnp\u001b[0m\u001b[1;33m.\u001b[0m\u001b[0munique\u001b[0m\u001b[1;33m(\u001b[0m\u001b[0my\u001b[0m\u001b[1;33m)\u001b[0m\u001b[1;33m\u001b[0m\u001b[1;33m\u001b[0m\u001b[0m\n",
      "\u001b[1;32m~\\Anaconda3\\lib\\site-packages\\sklearn\\utils\\validation.py\u001b[0m in \u001b[0;36mcheck_X_y\u001b[1;34m(X, y, accept_sparse, accept_large_sparse, dtype, order, copy, force_all_finite, ensure_2d, allow_nd, multi_output, ensure_min_samples, ensure_min_features, y_numeric, warn_on_dtype, estimator)\u001b[0m\n\u001b[0;32m    737\u001b[0m                     \u001b[0mensure_min_features\u001b[0m\u001b[1;33m=\u001b[0m\u001b[0mensure_min_features\u001b[0m\u001b[1;33m,\u001b[0m\u001b[1;33m\u001b[0m\u001b[1;33m\u001b[0m\u001b[0m\n\u001b[0;32m    738\u001b[0m                     \u001b[0mwarn_on_dtype\u001b[0m\u001b[1;33m=\u001b[0m\u001b[0mwarn_on_dtype\u001b[0m\u001b[1;33m,\u001b[0m\u001b[1;33m\u001b[0m\u001b[1;33m\u001b[0m\u001b[0m\n\u001b[1;32m--> 739\u001b[1;33m                     estimator=estimator)\n\u001b[0m\u001b[0;32m    740\u001b[0m     \u001b[1;32mif\u001b[0m \u001b[0mmulti_output\u001b[0m\u001b[1;33m:\u001b[0m\u001b[1;33m\u001b[0m\u001b[1;33m\u001b[0m\u001b[0m\n\u001b[0;32m    741\u001b[0m         y = check_array(y, 'csr', force_all_finite=True, ensure_2d=False,\n",
      "\u001b[1;32m~\\Anaconda3\\lib\\site-packages\\sklearn\\utils\\validation.py\u001b[0m in \u001b[0;36mcheck_array\u001b[1;34m(array, accept_sparse, accept_large_sparse, dtype, order, copy, force_all_finite, ensure_2d, allow_nd, ensure_min_samples, ensure_min_features, warn_on_dtype, estimator)\u001b[0m\n\u001b[0;32m    513\u001b[0m                     \u001b[0marray\u001b[0m \u001b[1;33m=\u001b[0m \u001b[0marray\u001b[0m\u001b[1;33m.\u001b[0m\u001b[0mastype\u001b[0m\u001b[1;33m(\u001b[0m\u001b[0mdtype\u001b[0m\u001b[1;33m,\u001b[0m \u001b[0mcasting\u001b[0m\u001b[1;33m=\u001b[0m\u001b[1;34m\"unsafe\"\u001b[0m\u001b[1;33m,\u001b[0m \u001b[0mcopy\u001b[0m\u001b[1;33m=\u001b[0m\u001b[1;32mFalse\u001b[0m\u001b[1;33m)\u001b[0m\u001b[1;33m\u001b[0m\u001b[1;33m\u001b[0m\u001b[0m\n\u001b[0;32m    514\u001b[0m                 \u001b[1;32melse\u001b[0m\u001b[1;33m:\u001b[0m\u001b[1;33m\u001b[0m\u001b[1;33m\u001b[0m\u001b[0m\n\u001b[1;32m--> 515\u001b[1;33m                     \u001b[0marray\u001b[0m \u001b[1;33m=\u001b[0m \u001b[0mnp\u001b[0m\u001b[1;33m.\u001b[0m\u001b[0masarray\u001b[0m\u001b[1;33m(\u001b[0m\u001b[0marray\u001b[0m\u001b[1;33m,\u001b[0m \u001b[0morder\u001b[0m\u001b[1;33m=\u001b[0m\u001b[0morder\u001b[0m\u001b[1;33m,\u001b[0m \u001b[0mdtype\u001b[0m\u001b[1;33m=\u001b[0m\u001b[0mdtype\u001b[0m\u001b[1;33m)\u001b[0m\u001b[1;33m\u001b[0m\u001b[1;33m\u001b[0m\u001b[0m\n\u001b[0m\u001b[0;32m    516\u001b[0m             \u001b[1;32mexcept\u001b[0m \u001b[0mComplexWarning\u001b[0m\u001b[1;33m:\u001b[0m\u001b[1;33m\u001b[0m\u001b[1;33m\u001b[0m\u001b[0m\n\u001b[0;32m    517\u001b[0m                 raise ValueError(\"Complex data not supported\\n\"\n",
      "\u001b[1;32m~\\Anaconda3\\lib\\site-packages\\numpy\\core\\_asarray.py\u001b[0m in \u001b[0;36masarray\u001b[1;34m(a, dtype, order)\u001b[0m\n\u001b[0;32m     83\u001b[0m \u001b[1;33m\u001b[0m\u001b[0m\n\u001b[0;32m     84\u001b[0m     \"\"\"\n\u001b[1;32m---> 85\u001b[1;33m     \u001b[1;32mreturn\u001b[0m \u001b[0marray\u001b[0m\u001b[1;33m(\u001b[0m\u001b[0ma\u001b[0m\u001b[1;33m,\u001b[0m \u001b[0mdtype\u001b[0m\u001b[1;33m,\u001b[0m \u001b[0mcopy\u001b[0m\u001b[1;33m=\u001b[0m\u001b[1;32mFalse\u001b[0m\u001b[1;33m,\u001b[0m \u001b[0morder\u001b[0m\u001b[1;33m=\u001b[0m\u001b[0morder\u001b[0m\u001b[1;33m)\u001b[0m\u001b[1;33m\u001b[0m\u001b[1;33m\u001b[0m\u001b[0m\n\u001b[0m\u001b[0;32m     86\u001b[0m \u001b[1;33m\u001b[0m\u001b[0m\n\u001b[0;32m     87\u001b[0m \u001b[1;33m\u001b[0m\u001b[0m\n",
      "\u001b[1;32m~\\Anaconda3\\lib\\site-packages\\pandas\\core\\series.py\u001b[0m in \u001b[0;36m__array__\u001b[1;34m(self, dtype)\u001b[0m\n\u001b[0;32m    949\u001b[0m             \u001b[0mwarnings\u001b[0m\u001b[1;33m.\u001b[0m\u001b[0mwarn\u001b[0m\u001b[1;33m(\u001b[0m\u001b[0mmsg\u001b[0m\u001b[1;33m,\u001b[0m \u001b[0mFutureWarning\u001b[0m\u001b[1;33m,\u001b[0m \u001b[0mstacklevel\u001b[0m\u001b[1;33m=\u001b[0m\u001b[1;36m3\u001b[0m\u001b[1;33m)\u001b[0m\u001b[1;33m\u001b[0m\u001b[1;33m\u001b[0m\u001b[0m\n\u001b[0;32m    950\u001b[0m             \u001b[0mdtype\u001b[0m \u001b[1;33m=\u001b[0m \u001b[1;34m\"M8[ns]\"\u001b[0m\u001b[1;33m\u001b[0m\u001b[1;33m\u001b[0m\u001b[0m\n\u001b[1;32m--> 951\u001b[1;33m         \u001b[1;32mreturn\u001b[0m \u001b[0mnp\u001b[0m\u001b[1;33m.\u001b[0m\u001b[0masarray\u001b[0m\u001b[1;33m(\u001b[0m\u001b[0mself\u001b[0m\u001b[1;33m.\u001b[0m\u001b[0marray\u001b[0m\u001b[1;33m,\u001b[0m \u001b[0mdtype\u001b[0m\u001b[1;33m)\u001b[0m\u001b[1;33m\u001b[0m\u001b[1;33m\u001b[0m\u001b[0m\n\u001b[0m\u001b[0;32m    952\u001b[0m \u001b[1;33m\u001b[0m\u001b[0m\n\u001b[0;32m    953\u001b[0m     \u001b[1;31m# ----------------------------------------------------------------------\u001b[0m\u001b[1;33m\u001b[0m\u001b[1;33m\u001b[0m\u001b[1;33m\u001b[0m\u001b[0m\n",
      "\u001b[1;32m~\\Anaconda3\\lib\\site-packages\\numpy\\core\\_asarray.py\u001b[0m in \u001b[0;36masarray\u001b[1;34m(a, dtype, order)\u001b[0m\n\u001b[0;32m     83\u001b[0m \u001b[1;33m\u001b[0m\u001b[0m\n\u001b[0;32m     84\u001b[0m     \"\"\"\n\u001b[1;32m---> 85\u001b[1;33m     \u001b[1;32mreturn\u001b[0m \u001b[0marray\u001b[0m\u001b[1;33m(\u001b[0m\u001b[0ma\u001b[0m\u001b[1;33m,\u001b[0m \u001b[0mdtype\u001b[0m\u001b[1;33m,\u001b[0m \u001b[0mcopy\u001b[0m\u001b[1;33m=\u001b[0m\u001b[1;32mFalse\u001b[0m\u001b[1;33m,\u001b[0m \u001b[0morder\u001b[0m\u001b[1;33m=\u001b[0m\u001b[0morder\u001b[0m\u001b[1;33m)\u001b[0m\u001b[1;33m\u001b[0m\u001b[1;33m\u001b[0m\u001b[0m\n\u001b[0m\u001b[0;32m     86\u001b[0m \u001b[1;33m\u001b[0m\u001b[0m\n\u001b[0;32m     87\u001b[0m \u001b[1;33m\u001b[0m\u001b[0m\n",
      "\u001b[1;32m~\\Anaconda3\\lib\\site-packages\\pandas\\core\\arrays\\numpy_.py\u001b[0m in \u001b[0;36m__array__\u001b[1;34m(self, dtype)\u001b[0m\n\u001b[0;32m    164\u001b[0m \u001b[1;33m\u001b[0m\u001b[0m\n\u001b[0;32m    165\u001b[0m     \u001b[1;32mdef\u001b[0m \u001b[0m__array__\u001b[0m\u001b[1;33m(\u001b[0m\u001b[0mself\u001b[0m\u001b[1;33m,\u001b[0m \u001b[0mdtype\u001b[0m\u001b[1;33m=\u001b[0m\u001b[1;32mNone\u001b[0m\u001b[1;33m)\u001b[0m\u001b[1;33m:\u001b[0m\u001b[1;33m\u001b[0m\u001b[1;33m\u001b[0m\u001b[0m\n\u001b[1;32m--> 166\u001b[1;33m         \u001b[1;32mreturn\u001b[0m \u001b[0mnp\u001b[0m\u001b[1;33m.\u001b[0m\u001b[0masarray\u001b[0m\u001b[1;33m(\u001b[0m\u001b[0mself\u001b[0m\u001b[1;33m.\u001b[0m\u001b[0m_ndarray\u001b[0m\u001b[1;33m,\u001b[0m \u001b[0mdtype\u001b[0m\u001b[1;33m=\u001b[0m\u001b[0mdtype\u001b[0m\u001b[1;33m)\u001b[0m\u001b[1;33m\u001b[0m\u001b[1;33m\u001b[0m\u001b[0m\n\u001b[0m\u001b[0;32m    167\u001b[0m \u001b[1;33m\u001b[0m\u001b[0m\n\u001b[0;32m    168\u001b[0m     \u001b[0m_HANDLED_TYPES\u001b[0m \u001b[1;33m=\u001b[0m \u001b[1;33m(\u001b[0m\u001b[0mnp\u001b[0m\u001b[1;33m.\u001b[0m\u001b[0mndarray\u001b[0m\u001b[1;33m,\u001b[0m \u001b[0mnumbers\u001b[0m\u001b[1;33m.\u001b[0m\u001b[0mNumber\u001b[0m\u001b[1;33m)\u001b[0m\u001b[1;33m\u001b[0m\u001b[1;33m\u001b[0m\u001b[0m\n",
      "\u001b[1;32m~\\Anaconda3\\lib\\site-packages\\numpy\\core\\_asarray.py\u001b[0m in \u001b[0;36masarray\u001b[1;34m(a, dtype, order)\u001b[0m\n\u001b[0;32m     83\u001b[0m \u001b[1;33m\u001b[0m\u001b[0m\n\u001b[0;32m     84\u001b[0m     \"\"\"\n\u001b[1;32m---> 85\u001b[1;33m     \u001b[1;32mreturn\u001b[0m \u001b[0marray\u001b[0m\u001b[1;33m(\u001b[0m\u001b[0ma\u001b[0m\u001b[1;33m,\u001b[0m \u001b[0mdtype\u001b[0m\u001b[1;33m,\u001b[0m \u001b[0mcopy\u001b[0m\u001b[1;33m=\u001b[0m\u001b[1;32mFalse\u001b[0m\u001b[1;33m,\u001b[0m \u001b[0morder\u001b[0m\u001b[1;33m=\u001b[0m\u001b[0morder\u001b[0m\u001b[1;33m)\u001b[0m\u001b[1;33m\u001b[0m\u001b[1;33m\u001b[0m\u001b[0m\n\u001b[0m\u001b[0;32m     86\u001b[0m \u001b[1;33m\u001b[0m\u001b[0m\n\u001b[0;32m     87\u001b[0m \u001b[1;33m\u001b[0m\u001b[0m\n",
      "\u001b[1;31mValueError\u001b[0m: could not convert string to float: \"World's Largest-Ever Flying Bird Had Huge Wingspan, Fossil Shows\""
     ]
    }
   ],
   "source": [
    "from sklearn.linear_model import LogisticRegression\n",
    "\n",
    "lr = LogisticRegression(max_iter=1000)\n",
    "lr.fit(train[\"TITLE\"], train[\"CATEGORY\"])"
   ]
  },
  {
   "cell_type": "code",
   "execution_count": null,
   "metadata": {},
   "outputs": [],
   "source": []
  }
 ],
 "metadata": {
  "kernelspec": {
   "display_name": "Python 3",
   "language": "python",
   "name": "python3"
  },
  "language_info": {
   "codemirror_mode": {
    "name": "ipython",
    "version": 3
   },
   "file_extension": ".py",
   "mimetype": "text/x-python",
   "name": "python",
   "nbconvert_exporter": "python",
   "pygments_lexer": "ipython3",
   "version": "3.7.9"
  }
 },
 "nbformat": 4,
 "nbformat_minor": 4
}
